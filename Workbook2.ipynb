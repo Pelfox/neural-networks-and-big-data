{
 "cells": [
  {
   "cell_type": "markdown",
   "metadata": {},
   "source": [
    "### 1.2.1 Пример\n",
    "\n",
    "**Задача:**\n",
    "\n",
    "Создать массив 5x2. Вывести все значения массива,\n",
    "значение элемента с индексом (3,1) и второй столбец. Индексация \n",
    "начинается с нуля."
   ],
   "id": "8f8c2cd57c8b3506"
  },
  {
   "metadata": {
    "ExecuteTime": {
     "end_time": "2025-10-06T07:36:46.694774Z",
     "start_time": "2025-10-06T07:36:46.689660Z"
    }
   },
   "cell_type": "code",
   "source": [
    "import numpy as np\n",
    "x = np.array([[1, 2], [3, 4], [5, 6], [7, 8], [9, 10]])\n",
    "print(x)\n",
    "print(x[3][1])\n",
    "print(x[1])"
   ],
   "id": "3765a55da86fa889",
   "outputs": [
    {
     "name": "stdout",
     "output_type": "stream",
     "text": [
      "[[ 1  2]\n",
      " [ 3  4]\n",
      " [ 5  6]\n",
      " [ 7  8]\n",
      " [ 9 10]]\n",
      "8\n",
      "[3 4]\n"
     ]
    }
   ],
   "execution_count": 56
  },
  {
   "cell_type": "markdown",
   "metadata": {},
   "source": [
    "### 1.2.2 Пример\n",
    "\n",
    "**Задача:**\n",
    "\n",
    "Пример. Выполнить следующее: \n",
    "1. Создать вектор (одномерный массив) размера 10, заполненный \n",
    "нулями. \n",
    "2. Создать вектор размера 10, заполненный единицами. \n",
    "3. Создать вектор размера 10, заполненный заданным числом. \n",
    "4. Создать вектор со значениями от 10 до 19."
   ],
   "id": "3493364abaa0d420"
  },
  {
   "metadata": {
    "ExecuteTime": {
     "end_time": "2025-10-06T07:36:46.710692Z",
     "start_time": "2025-10-06T07:36:46.707498Z"
    }
   },
   "cell_type": "code",
   "source": [
    "a = np.zeros(10)\n",
    "b = np.ones(10)\n",
    "c = np.full(10, 5)\n",
    "d = np.arange(10, 20)\n",
    "print(a, '\\n', b, '\\n', c, '\\n', d)"
   ],
   "id": "5b53e0237ca41d52",
   "outputs": [
    {
     "name": "stdout",
     "output_type": "stream",
     "text": [
      "[0. 0. 0. 0. 0. 0. 0. 0. 0. 0.] \n",
      " [1. 1. 1. 1. 1. 1. 1. 1. 1. 1.] \n",
      " [5 5 5 5 5 5 5 5 5 5] \n",
      " [10 11 12 13 14 15 16 17 18 19]\n"
     ]
    }
   ],
   "execution_count": 57
  },
  {
   "cell_type": "markdown",
   "metadata": {},
   "source": [
    "### 1.2.3 Пример\n",
    "\n",
    "**Задача:**\n",
    "\n",
    "Создать массив 10x10 со случайными значениями, найти минимум, \n",
    "максимум и среднее значение."
   ],
   "id": "d8be0497c6d1f6a5"
  },
  {
   "metadata": {
    "ExecuteTime": {
     "end_time": "2025-10-06T07:36:46.728366Z",
     "start_time": "2025-10-06T07:36:46.726160Z"
    }
   },
   "cell_type": "code",
   "source": [
    "z = np.random.random((10, 10))\n",
    "z_min, z_max, z_mean = z.min(), z.max(), z.mean()\n",
    "print(z_min, z_max, z_mean)"
   ],
   "id": "3873a6379cd0efb1",
   "outputs": [
    {
     "name": "stdout",
     "output_type": "stream",
     "text": [
      "0.014071124235336407 0.9726920412959109 0.4538165457884413\n"
     ]
    }
   ],
   "execution_count": 58
  },
  {
   "cell_type": "markdown",
   "metadata": {},
   "source": [
    "### 1.2.4 Пример\n",
    "\n",
    "**Задача:**\n",
    "\n",
    "Задать матрицу размерности 5 на 5 и поменять 2 строки в матрице\n",
    "местами."
   ],
   "id": "13e5278971fe7811"
  },
  {
   "metadata": {
    "ExecuteTime": {
     "end_time": "2025-10-06T07:36:46.742565Z",
     "start_time": "2025-10-06T07:36:46.740389Z"
    }
   },
   "cell_type": "code",
   "source": [
    "a = np.arange(25).reshape(5, 5)\n",
    "a[[0, 1]] = a[[1, 0]]\n",
    "print(a)"
   ],
   "id": "29390322371777e3",
   "outputs": [
    {
     "name": "stdout",
     "output_type": "stream",
     "text": [
      "[[ 5  6  7  8  9]\n",
      " [ 0  1  2  3  4]\n",
      " [10 11 12 13 14]\n",
      " [15 16 17 18 19]\n",
      " [20 21 22 23 24]]\n"
     ]
    }
   ],
   "execution_count": 59
  },
  {
   "cell_type": "markdown",
   "metadata": {},
   "source": [
    "### 1.2.5 Пример\n",
    "\n",
    "**Задача:**\n",
    "\n",
    "Выяснить результат следующих выражений:\n",
    "`0 * np.nan`\n",
    "`np.nan == np.nan`\n",
    "`np.inf > np.nan`\n",
    "`np.nan - np.nan`\n",
    "`0.3 == 3 * 0.1`"
   ],
   "id": "6d8438508b9ba641"
  },
  {
   "metadata": {
    "ExecuteTime": {
     "end_time": "2025-10-06T07:36:46.758794Z",
     "start_time": "2025-10-06T07:36:46.756935Z"
    }
   },
   "cell_type": "code",
   "source": [
    "print(0 * np.nan)\n",
    "print(np.nan == np.nan)\n",
    "print(np.inf > np.nan)\n",
    "print(np.nan - np.nan)\n",
    "print(0.3 == 3 * 0.1)"
   ],
   "id": "7f58d164983b1056",
   "outputs": [
    {
     "name": "stdout",
     "output_type": "stream",
     "text": [
      "nan\n",
      "False\n",
      "False\n",
      "nan\n",
      "False\n"
     ]
    }
   ],
   "execution_count": 60
  },
  {
   "cell_type": "markdown",
   "metadata": {},
   "source": [
    "### 1.2.6 Пример\n",
    "\n",
    "**Задача:**\n",
    "\n",
    "Отсортировать массив."
   ],
   "id": "c436e412e54d82ef"
  },
  {
   "metadata": {
    "ExecuteTime": {
     "end_time": "2025-10-06T07:36:46.773126Z",
     "start_time": "2025-10-06T07:36:46.771372Z"
    }
   },
   "cell_type": "code",
   "source": [
    "array = np.array([2, 1, 5, 3, 7, 4, 6, 8])\n",
    "print(np.sort(array))"
   ],
   "id": "34590731d2d3578b",
   "outputs": [
    {
     "name": "stdout",
     "output_type": "stream",
     "text": [
      "[1 2 3 4 5 6 7 8]\n"
     ]
    }
   ],
   "execution_count": 61
  },
  {
   "cell_type": "markdown",
   "metadata": {},
   "source": "### 1.3.1\n\n**Задача:**\n\nСоздать 8x8 матрицу и заполнить её в шахматном порядке нулями и \nединицами.",
   "id": "e5fa2a26b5d1d07b"
  },
  {
   "metadata": {
    "ExecuteTime": {
     "end_time": "2025-10-06T07:36:46.792978Z",
     "start_time": "2025-10-06T07:36:46.790971Z"
    }
   },
   "cell_type": "code",
   "source": [
    "chessboard = np.indices((8, 8))\n",
    "chessboard = (chessboard[0] + chessboard[1]) % 2\n",
    "print(chessboard)"
   ],
   "id": "b8c994df7515d495",
   "outputs": [
    {
     "name": "stdout",
     "output_type": "stream",
     "text": [
      "[[0 1 0 1 0 1 0 1]\n",
      " [1 0 1 0 1 0 1 0]\n",
      " [0 1 0 1 0 1 0 1]\n",
      " [1 0 1 0 1 0 1 0]\n",
      " [0 1 0 1 0 1 0 1]\n",
      " [1 0 1 0 1 0 1 0]\n",
      " [0 1 0 1 0 1 0 1]\n",
      " [1 0 1 0 1 0 1 0]]\n"
     ]
    }
   ],
   "execution_count": 62
  },
  {
   "cell_type": "markdown",
   "metadata": {},
   "source": [
    "### 1.3.2\n",
    "\n",
    "**Задача:**\n",
    "\n",
    "Создать 5x5 матрицу со значениями в строках от 0 до 4. Для создания \n",
    "необходимо использовать функцию arrange."
   ],
   "id": "fe9dda70d08313de"
  },
  {
   "metadata": {
    "ExecuteTime": {
     "end_time": "2025-10-06T07:36:46.809207Z",
     "start_time": "2025-10-06T07:36:46.807512Z"
    }
   },
   "cell_type": "code",
   "source": [
    "matrix = np.tile(np.arange(5), (5, 1))\n",
    "print(matrix)"
   ],
   "id": "cfa9633e4eb95578",
   "outputs": [
    {
     "name": "stdout",
     "output_type": "stream",
     "text": [
      "[[0 1 2 3 4]\n",
      " [0 1 2 3 4]\n",
      " [0 1 2 3 4]\n",
      " [0 1 2 3 4]\n",
      " [0 1 2 3 4]]\n"
     ]
    }
   ],
   "execution_count": 63
  },
  {
   "cell_type": "markdown",
   "metadata": {},
   "source": [
    "### 1.3.3\n",
    "\n",
    "**Задача:**\n",
    "\n",
    "Создать массив 3x3x3 со случайными значениями."
   ],
   "id": "268598a318de640"
  },
  {
   "metadata": {
    "ExecuteTime": {
     "end_time": "2025-10-06T07:36:46.831524Z",
     "start_time": "2025-10-06T07:36:46.829410Z"
    }
   },
   "cell_type": "code",
   "source": [
    "random_array = np.random.random((3, 3, 3))\n",
    "print(random_array)"
   ],
   "id": "3d5d7e173ac28e50",
   "outputs": [
    {
     "name": "stdout",
     "output_type": "stream",
     "text": [
      "[[[0.51759845 0.93515855 0.24659566]\n",
      "  [0.07451195 0.61544093 0.82772365]\n",
      "  [0.10084818 0.8478007  0.42660018]]\n",
      "\n",
      " [[0.20739889 0.73794386 0.05017711]\n",
      "  [0.64232109 0.59534826 0.45702036]\n",
      "  [0.87135885 0.12427896 0.95649889]]\n",
      "\n",
      " [[0.70366169 0.04762737 0.45493009]\n",
      "  [0.52003032 0.15283465 0.9360573 ]\n",
      "  [0.33978632 0.68725897 0.0108571 ]]]\n"
     ]
    }
   ],
   "execution_count": 64
  },
  {
   "cell_type": "markdown",
   "metadata": {},
   "source": [
    "### 1.3.4\n",
    "\n",
    "**Задача:**\n",
    "\n",
    "Создать матрицу с 0 внутри, и 1 на границах."
   ],
   "id": "40c83af58de8adc5"
  },
  {
   "metadata": {
    "ExecuteTime": {
     "end_time": "2025-10-06T07:36:46.854407Z",
     "start_time": "2025-10-06T07:36:46.852213Z"
    }
   },
   "cell_type": "code",
   "source": [
    "inner = np.zeros((3, 3), dtype=int)\n",
    "matrix = np.pad(inner, pad_width=1, mode='constant', constant_values=1)\n",
    "print(matrix)"
   ],
   "id": "da247af39805914c",
   "outputs": [
    {
     "name": "stdout",
     "output_type": "stream",
     "text": [
      "[[1 1 1 1 1]\n",
      " [1 0 0 0 1]\n",
      " [1 0 0 0 1]\n",
      " [1 0 0 0 1]\n",
      " [1 1 1 1 1]]\n"
     ]
    }
   ],
   "execution_count": 65
  },
  {
   "cell_type": "markdown",
   "metadata": {},
   "source": "### 1.3.5\n\n**Задача:**\n\nСоздайте массив и отсортируйте его по убыванию.",
   "id": "2a4e3ec0be974573"
  },
  {
   "metadata": {
    "ExecuteTime": {
     "end_time": "2025-10-06T07:36:46.879747Z",
     "start_time": "2025-10-06T07:36:46.877634Z"
    }
   },
   "cell_type": "code",
   "source": [
    "array = np.random.randint(1, 100, 10)\n",
    "sorted_array = np.sort(array)[::-1]\n",
    "print(sorted_array)"
   ],
   "id": "bb8a518abeafb0b4",
   "outputs": [
    {
     "name": "stdout",
     "output_type": "stream",
     "text": [
      "[93 74 69 68 41 38 37 13  8  3]\n"
     ]
    }
   ],
   "execution_count": 66
  },
  {
   "cell_type": "markdown",
   "metadata": {},
   "source": "### 1.3.6\n\n**Задача:**\n\nСоздайте матрицу, выведите ее форму, размер и размерность.",
   "id": "2882b3273827fce5"
  },
  {
   "metadata": {
    "ExecuteTime": {
     "end_time": "2025-10-06T07:36:46.895989Z",
     "start_time": "2025-10-06T07:36:46.893734Z"
    }
   },
   "cell_type": "code",
   "source": [
    "matrix = np.array([\n",
    "    [1, 2, 3, 4],\n",
    "    [5, 6, 7, 8],\n",
    "    [9, 10, 11, 12],\n",
    "])\n",
    "print(f'Форма матрицы: {matrix.shape}')\n",
    "print(f'Размер матрицы: {matrix.size}')\n",
    "print(f'Размерность матрицы: {matrix.ndim}')"
   ],
   "id": "775c96d4f53a207d",
   "outputs": [
    {
     "name": "stdout",
     "output_type": "stream",
     "text": [
      "Форма матрицы: (3, 4)\n",
      "Размер матрицы: 12\n",
      "Размерность матрицы: 2\n"
     ]
    }
   ],
   "execution_count": 67
  },
  {
   "cell_type": "markdown",
   "metadata": {},
   "source": [
    "### 2.2.1 Пример\n",
    "\n",
    "**Задача:**\n",
    "\n",
    "Создать Series из списка Python, словаря Python, и массива Numpy \n",
    "(установить буквенные метки для последнего)."
   ],
   "id": "9638844cce874255"
  },
  {
   "metadata": {
    "ExecuteTime": {
     "end_time": "2025-10-06T07:36:46.920770Z",
     "start_time": "2025-10-06T07:36:46.916204Z"
    }
   },
   "cell_type": "code",
   "source": [
    "import pandas as pd\n",
    "lst = [1, 2, 3, 4, 5]\n",
    "d = {'a': 1, 'b': 2, 'c': 3}\n",
    "ndarr = np.array([1, 2, 3, 4, 5])\n",
    "\n",
    "s1 = pd.Series(lst)\n",
    "s2 = pd.Series(d)\n",
    "s3 = pd.Series(ndarr, ['a', 'b', 'c', 'd', 'e'])\n",
    "\n",
    "print(s1)\n",
    "print(s2)\n",
    "print(s3)"
   ],
   "id": "edb3ad95b7b75a36",
   "outputs": [
    {
     "name": "stdout",
     "output_type": "stream",
     "text": [
      "0    1\n",
      "1    2\n",
      "2    3\n",
      "3    4\n",
      "4    5\n",
      "dtype: int64\n",
      "a    1\n",
      "b    2\n",
      "c    3\n",
      "dtype: int64\n",
      "a    1\n",
      "b    2\n",
      "c    3\n",
      "d    4\n",
      "e    5\n",
      "dtype: int64\n"
     ]
    }
   ],
   "execution_count": 68
  },
  {
   "cell_type": "markdown",
   "metadata": {},
   "source": [
    "### 2.2.2 Пример\n",
    "\n",
    "**Задача:**\n",
    "\n",
    "Дано два Series. Напечатать их первые элементы и все элементы после \n",
    "третьего (во втором фрейме)."
   ],
   "id": "69ba1bf0e7326f9a"
  },
  {
   "metadata": {
    "ExecuteTime": {
     "end_time": "2025-10-06T07:36:46.944806Z",
     "start_time": "2025-10-06T07:36:46.942358Z"
    }
   },
   "cell_type": "code",
   "source": [
    "s1 = pd.Series([1, 2, 3, 4, 5], ['a', 'b', 'c', 'd', 'e'])\n",
    "s2 = pd.Series([5, 4, 3, 2, 1])\n",
    "print(s1['a'])\n",
    "print(s2[0])\n",
    "print(s2[3:])"
   ],
   "id": "9eac6969c3b2ac8b",
   "outputs": [
    {
     "name": "stdout",
     "output_type": "stream",
     "text": [
      "1\n",
      "5\n",
      "3    2\n",
      "4    1\n",
      "dtype: int64\n"
     ]
    }
   ],
   "execution_count": 69
  },
  {
   "cell_type": "markdown",
   "metadata": {},
   "source": "### 2.2.3 Пример\n\n**Задача:**\n\nСоздайте новый фрейм данных.",
   "id": "b516d992f4d215f"
  },
  {
   "metadata": {
    "ExecuteTime": {
     "end_time": "2025-10-06T07:36:46.961679Z",
     "start_time": "2025-10-06T07:36:46.955832Z"
    }
   },
   "cell_type": "code",
   "source": [
    "dataframe = pd.DataFrame()\n",
    "dataframe['Имя'] = ['Джеки Джексон', 'Стивен Стивенсон']\n",
    "dataframe['Возраст'] = [38, 25]\n",
    "dataframe['Водитель'] = [True, False]\n",
    "dataframe"
   ],
   "id": "d935d51acd8e552f",
   "outputs": [
    {
     "data": {
      "text/plain": [
       "                Имя  Возраст  Водитель\n",
       "0     Джеки Джексон       38      True\n",
       "1  Стивен Стивенсон       25     False"
      ],
      "text/html": [
       "<div>\n",
       "<style scoped>\n",
       "    .dataframe tbody tr th:only-of-type {\n",
       "        vertical-align: middle;\n",
       "    }\n",
       "\n",
       "    .dataframe tbody tr th {\n",
       "        vertical-align: top;\n",
       "    }\n",
       "\n",
       "    .dataframe thead th {\n",
       "        text-align: right;\n",
       "    }\n",
       "</style>\n",
       "<table border=\"1\" class=\"dataframe\">\n",
       "  <thead>\n",
       "    <tr style=\"text-align: right;\">\n",
       "      <th></th>\n",
       "      <th>Имя</th>\n",
       "      <th>Возраст</th>\n",
       "      <th>Водитель</th>\n",
       "    </tr>\n",
       "  </thead>\n",
       "  <tbody>\n",
       "    <tr>\n",
       "      <th>0</th>\n",
       "      <td>Джеки Джексон</td>\n",
       "      <td>38</td>\n",
       "      <td>True</td>\n",
       "    </tr>\n",
       "    <tr>\n",
       "      <th>1</th>\n",
       "      <td>Стивен Стивенсон</td>\n",
       "      <td>25</td>\n",
       "      <td>False</td>\n",
       "    </tr>\n",
       "  </tbody>\n",
       "</table>\n",
       "</div>"
      ]
     },
     "execution_count": 70,
     "metadata": {},
     "output_type": "execute_result"
    }
   ],
   "execution_count": 70
  },
  {
   "cell_type": "markdown",
   "metadata": {},
   "source": "### 2.2.4 Пример\n\n**Задача:**\n\nЗагрузите фрейм данных по ссылке: \nhttps://raw.githubusercontent.com/chrisalbon/simulated_datasets/master/titan\nic.csv",
   "id": "3c89e2275146eb38"
  },
  {
   "metadata": {
    "ExecuteTime": {
     "end_time": "2025-10-06T07:36:47.104320Z",
     "start_time": "2025-10-06T07:36:46.988458Z"
    }
   },
   "cell_type": "code",
   "source": [
    "dataframe = pd.read_csv('./datasets/airlines.csv')\n",
    "dataframe.head(5)"
   ],
   "id": "cc8b3b772695e33d",
   "outputs": [
    {
     "data": {
      "text/plain": [
       "  Airline  Flight AirportFrom AirportTo  DayOfWeek  Time  Length  Delay\n",
       "0      CO     269         SFO       IAH          3    15     205      1\n",
       "1      US    1558         PHX       CLT          3    15     222      1\n",
       "2      AA    2400         LAX       DFW          3    20     165      1\n",
       "3      AA    2466         SFO       DFW          3    20     195      1\n",
       "4      AS     108         ANC       SEA          3    30     202      0"
      ],
      "text/html": [
       "<div>\n",
       "<style scoped>\n",
       "    .dataframe tbody tr th:only-of-type {\n",
       "        vertical-align: middle;\n",
       "    }\n",
       "\n",
       "    .dataframe tbody tr th {\n",
       "        vertical-align: top;\n",
       "    }\n",
       "\n",
       "    .dataframe thead th {\n",
       "        text-align: right;\n",
       "    }\n",
       "</style>\n",
       "<table border=\"1\" class=\"dataframe\">\n",
       "  <thead>\n",
       "    <tr style=\"text-align: right;\">\n",
       "      <th></th>\n",
       "      <th>Airline</th>\n",
       "      <th>Flight</th>\n",
       "      <th>AirportFrom</th>\n",
       "      <th>AirportTo</th>\n",
       "      <th>DayOfWeek</th>\n",
       "      <th>Time</th>\n",
       "      <th>Length</th>\n",
       "      <th>Delay</th>\n",
       "    </tr>\n",
       "  </thead>\n",
       "  <tbody>\n",
       "    <tr>\n",
       "      <th>0</th>\n",
       "      <td>CO</td>\n",
       "      <td>269</td>\n",
       "      <td>SFO</td>\n",
       "      <td>IAH</td>\n",
       "      <td>3</td>\n",
       "      <td>15</td>\n",
       "      <td>205</td>\n",
       "      <td>1</td>\n",
       "    </tr>\n",
       "    <tr>\n",
       "      <th>1</th>\n",
       "      <td>US</td>\n",
       "      <td>1558</td>\n",
       "      <td>PHX</td>\n",
       "      <td>CLT</td>\n",
       "      <td>3</td>\n",
       "      <td>15</td>\n",
       "      <td>222</td>\n",
       "      <td>1</td>\n",
       "    </tr>\n",
       "    <tr>\n",
       "      <th>2</th>\n",
       "      <td>AA</td>\n",
       "      <td>2400</td>\n",
       "      <td>LAX</td>\n",
       "      <td>DFW</td>\n",
       "      <td>3</td>\n",
       "      <td>20</td>\n",
       "      <td>165</td>\n",
       "      <td>1</td>\n",
       "    </tr>\n",
       "    <tr>\n",
       "      <th>3</th>\n",
       "      <td>AA</td>\n",
       "      <td>2466</td>\n",
       "      <td>SFO</td>\n",
       "      <td>DFW</td>\n",
       "      <td>3</td>\n",
       "      <td>20</td>\n",
       "      <td>195</td>\n",
       "      <td>1</td>\n",
       "    </tr>\n",
       "    <tr>\n",
       "      <th>4</th>\n",
       "      <td>AS</td>\n",
       "      <td>108</td>\n",
       "      <td>ANC</td>\n",
       "      <td>SEA</td>\n",
       "      <td>3</td>\n",
       "      <td>30</td>\n",
       "      <td>202</td>\n",
       "      <td>0</td>\n",
       "    </tr>\n",
       "  </tbody>\n",
       "</table>\n",
       "</div>"
      ]
     },
     "execution_count": 71,
     "metadata": {},
     "output_type": "execute_result"
    }
   ],
   "execution_count": 71
  },
  {
   "cell_type": "markdown",
   "metadata": {},
   "source": [
    "### 2.2.5 Пример\n",
    "\n",
    "**Задача:**\n",
    "\n",
    "Пронализировать характеристики фрейма данных."
   ],
   "id": "ad838d2d8f077334"
  },
  {
   "metadata": {
    "ExecuteTime": {
     "end_time": "2025-10-06T07:36:47.207142Z",
     "start_time": "2025-10-06T07:36:47.167298Z"
    }
   },
   "cell_type": "code",
   "source": [
    "display(dataframe.head(2))\n",
    "display(dataframe.tail(3))\n",
    "print('Shape:', dataframe.shape)\n",
    "display(dataframe.describe())"
   ],
   "id": "e629d08d2ce81676",
   "outputs": [
    {
     "data": {
      "text/plain": [
       "  Airline  Flight AirportFrom AirportTo  DayOfWeek  Time  Length  Delay\n",
       "0      CO     269         SFO       IAH          3    15     205      1\n",
       "1      US    1558         PHX       CLT          3    15     222      1"
      ],
      "text/html": [
       "<div>\n",
       "<style scoped>\n",
       "    .dataframe tbody tr th:only-of-type {\n",
       "        vertical-align: middle;\n",
       "    }\n",
       "\n",
       "    .dataframe tbody tr th {\n",
       "        vertical-align: top;\n",
       "    }\n",
       "\n",
       "    .dataframe thead th {\n",
       "        text-align: right;\n",
       "    }\n",
       "</style>\n",
       "<table border=\"1\" class=\"dataframe\">\n",
       "  <thead>\n",
       "    <tr style=\"text-align: right;\">\n",
       "      <th></th>\n",
       "      <th>Airline</th>\n",
       "      <th>Flight</th>\n",
       "      <th>AirportFrom</th>\n",
       "      <th>AirportTo</th>\n",
       "      <th>DayOfWeek</th>\n",
       "      <th>Time</th>\n",
       "      <th>Length</th>\n",
       "      <th>Delay</th>\n",
       "    </tr>\n",
       "  </thead>\n",
       "  <tbody>\n",
       "    <tr>\n",
       "      <th>0</th>\n",
       "      <td>CO</td>\n",
       "      <td>269</td>\n",
       "      <td>SFO</td>\n",
       "      <td>IAH</td>\n",
       "      <td>3</td>\n",
       "      <td>15</td>\n",
       "      <td>205</td>\n",
       "      <td>1</td>\n",
       "    </tr>\n",
       "    <tr>\n",
       "      <th>1</th>\n",
       "      <td>US</td>\n",
       "      <td>1558</td>\n",
       "      <td>PHX</td>\n",
       "      <td>CLT</td>\n",
       "      <td>3</td>\n",
       "      <td>15</td>\n",
       "      <td>222</td>\n",
       "      <td>1</td>\n",
       "    </tr>\n",
       "  </tbody>\n",
       "</table>\n",
       "</div>"
      ]
     },
     "metadata": {},
     "output_type": "display_data",
     "jetTransient": {
      "display_id": null
     }
    },
    {
     "data": {
      "text/plain": [
       "       Airline  Flight AirportFrom AirportTo  DayOfWeek  Time  Length  Delay\n",
       "539380      FL     609         SFO       MKE          5  1439     255      0\n",
       "539381      UA      78         HNL       SFO          5  1439     313      1\n",
       "539382      US    1442         LAX       PHL          5  1439     301      1"
      ],
      "text/html": [
       "<div>\n",
       "<style scoped>\n",
       "    .dataframe tbody tr th:only-of-type {\n",
       "        vertical-align: middle;\n",
       "    }\n",
       "\n",
       "    .dataframe tbody tr th {\n",
       "        vertical-align: top;\n",
       "    }\n",
       "\n",
       "    .dataframe thead th {\n",
       "        text-align: right;\n",
       "    }\n",
       "</style>\n",
       "<table border=\"1\" class=\"dataframe\">\n",
       "  <thead>\n",
       "    <tr style=\"text-align: right;\">\n",
       "      <th></th>\n",
       "      <th>Airline</th>\n",
       "      <th>Flight</th>\n",
       "      <th>AirportFrom</th>\n",
       "      <th>AirportTo</th>\n",
       "      <th>DayOfWeek</th>\n",
       "      <th>Time</th>\n",
       "      <th>Length</th>\n",
       "      <th>Delay</th>\n",
       "    </tr>\n",
       "  </thead>\n",
       "  <tbody>\n",
       "    <tr>\n",
       "      <th>539380</th>\n",
       "      <td>FL</td>\n",
       "      <td>609</td>\n",
       "      <td>SFO</td>\n",
       "      <td>MKE</td>\n",
       "      <td>5</td>\n",
       "      <td>1439</td>\n",
       "      <td>255</td>\n",
       "      <td>0</td>\n",
       "    </tr>\n",
       "    <tr>\n",
       "      <th>539381</th>\n",
       "      <td>UA</td>\n",
       "      <td>78</td>\n",
       "      <td>HNL</td>\n",
       "      <td>SFO</td>\n",
       "      <td>5</td>\n",
       "      <td>1439</td>\n",
       "      <td>313</td>\n",
       "      <td>1</td>\n",
       "    </tr>\n",
       "    <tr>\n",
       "      <th>539382</th>\n",
       "      <td>US</td>\n",
       "      <td>1442</td>\n",
       "      <td>LAX</td>\n",
       "      <td>PHL</td>\n",
       "      <td>5</td>\n",
       "      <td>1439</td>\n",
       "      <td>301</td>\n",
       "      <td>1</td>\n",
       "    </tr>\n",
       "  </tbody>\n",
       "</table>\n",
       "</div>"
      ]
     },
     "metadata": {},
     "output_type": "display_data",
     "jetTransient": {
      "display_id": null
     }
    },
    {
     "name": "stdout",
     "output_type": "stream",
     "text": [
      "Shape: (539383, 8)\n"
     ]
    },
    {
     "data": {
      "text/plain": [
       "              Flight      DayOfWeek           Time         Length  \\\n",
       "count  539383.000000  539383.000000  539383.000000  539383.000000   \n",
       "mean     2427.928630       3.929668     802.728963     132.202007   \n",
       "std      2067.429837       1.914664     278.045911      70.117016   \n",
       "min         1.000000       1.000000      10.000000       0.000000   \n",
       "25%       712.000000       2.000000     565.000000      81.000000   \n",
       "50%      1809.000000       4.000000     795.000000     115.000000   \n",
       "75%      3745.000000       5.000000    1035.000000     162.000000   \n",
       "max      7814.000000       7.000000    1439.000000     655.000000   \n",
       "\n",
       "               Delay  \n",
       "count  539383.000000  \n",
       "mean        0.445442  \n",
       "std         0.497015  \n",
       "min         0.000000  \n",
       "25%         0.000000  \n",
       "50%         0.000000  \n",
       "75%         1.000000  \n",
       "max         1.000000  "
      ],
      "text/html": [
       "<div>\n",
       "<style scoped>\n",
       "    .dataframe tbody tr th:only-of-type {\n",
       "        vertical-align: middle;\n",
       "    }\n",
       "\n",
       "    .dataframe tbody tr th {\n",
       "        vertical-align: top;\n",
       "    }\n",
       "\n",
       "    .dataframe thead th {\n",
       "        text-align: right;\n",
       "    }\n",
       "</style>\n",
       "<table border=\"1\" class=\"dataframe\">\n",
       "  <thead>\n",
       "    <tr style=\"text-align: right;\">\n",
       "      <th></th>\n",
       "      <th>Flight</th>\n",
       "      <th>DayOfWeek</th>\n",
       "      <th>Time</th>\n",
       "      <th>Length</th>\n",
       "      <th>Delay</th>\n",
       "    </tr>\n",
       "  </thead>\n",
       "  <tbody>\n",
       "    <tr>\n",
       "      <th>count</th>\n",
       "      <td>539383.000000</td>\n",
       "      <td>539383.000000</td>\n",
       "      <td>539383.000000</td>\n",
       "      <td>539383.000000</td>\n",
       "      <td>539383.000000</td>\n",
       "    </tr>\n",
       "    <tr>\n",
       "      <th>mean</th>\n",
       "      <td>2427.928630</td>\n",
       "      <td>3.929668</td>\n",
       "      <td>802.728963</td>\n",
       "      <td>132.202007</td>\n",
       "      <td>0.445442</td>\n",
       "    </tr>\n",
       "    <tr>\n",
       "      <th>std</th>\n",
       "      <td>2067.429837</td>\n",
       "      <td>1.914664</td>\n",
       "      <td>278.045911</td>\n",
       "      <td>70.117016</td>\n",
       "      <td>0.497015</td>\n",
       "    </tr>\n",
       "    <tr>\n",
       "      <th>min</th>\n",
       "      <td>1.000000</td>\n",
       "      <td>1.000000</td>\n",
       "      <td>10.000000</td>\n",
       "      <td>0.000000</td>\n",
       "      <td>0.000000</td>\n",
       "    </tr>\n",
       "    <tr>\n",
       "      <th>25%</th>\n",
       "      <td>712.000000</td>\n",
       "      <td>2.000000</td>\n",
       "      <td>565.000000</td>\n",
       "      <td>81.000000</td>\n",
       "      <td>0.000000</td>\n",
       "    </tr>\n",
       "    <tr>\n",
       "      <th>50%</th>\n",
       "      <td>1809.000000</td>\n",
       "      <td>4.000000</td>\n",
       "      <td>795.000000</td>\n",
       "      <td>115.000000</td>\n",
       "      <td>0.000000</td>\n",
       "    </tr>\n",
       "    <tr>\n",
       "      <th>75%</th>\n",
       "      <td>3745.000000</td>\n",
       "      <td>5.000000</td>\n",
       "      <td>1035.000000</td>\n",
       "      <td>162.000000</td>\n",
       "      <td>1.000000</td>\n",
       "    </tr>\n",
       "    <tr>\n",
       "      <th>max</th>\n",
       "      <td>7814.000000</td>\n",
       "      <td>7.000000</td>\n",
       "      <td>1439.000000</td>\n",
       "      <td>655.000000</td>\n",
       "      <td>1.000000</td>\n",
       "    </tr>\n",
       "  </tbody>\n",
       "</table>\n",
       "</div>"
      ]
     },
     "metadata": {},
     "output_type": "display_data",
     "jetTransient": {
      "display_id": null
     }
    }
   ],
   "execution_count": 72
  },
  {
   "cell_type": "markdown",
   "metadata": {},
   "source": "### 2.2.6 Пример\n\n**Задача:**\n\nВыберите индивидуальные данные или срезы фрейма данных.",
   "id": "d9174ce38616c4d2"
  },
  {
   "metadata": {
    "ExecuteTime": {
     "end_time": "2025-10-06T07:36:47.317934Z",
     "start_time": "2025-10-06T07:36:47.312234Z"
    }
   },
   "cell_type": "code",
   "source": "dataframe.iloc[1:4]",
   "id": "bb1325a8abb6146a",
   "outputs": [
    {
     "data": {
      "text/plain": [
       "  Airline  Flight AirportFrom AirportTo  DayOfWeek  Time  Length  Delay\n",
       "1      US    1558         PHX       CLT          3    15     222      1\n",
       "2      AA    2400         LAX       DFW          3    20     165      1\n",
       "3      AA    2466         SFO       DFW          3    20     195      1"
      ],
      "text/html": [
       "<div>\n",
       "<style scoped>\n",
       "    .dataframe tbody tr th:only-of-type {\n",
       "        vertical-align: middle;\n",
       "    }\n",
       "\n",
       "    .dataframe tbody tr th {\n",
       "        vertical-align: top;\n",
       "    }\n",
       "\n",
       "    .dataframe thead th {\n",
       "        text-align: right;\n",
       "    }\n",
       "</style>\n",
       "<table border=\"1\" class=\"dataframe\">\n",
       "  <thead>\n",
       "    <tr style=\"text-align: right;\">\n",
       "      <th></th>\n",
       "      <th>Airline</th>\n",
       "      <th>Flight</th>\n",
       "      <th>AirportFrom</th>\n",
       "      <th>AirportTo</th>\n",
       "      <th>DayOfWeek</th>\n",
       "      <th>Time</th>\n",
       "      <th>Length</th>\n",
       "      <th>Delay</th>\n",
       "    </tr>\n",
       "  </thead>\n",
       "  <tbody>\n",
       "    <tr>\n",
       "      <th>1</th>\n",
       "      <td>US</td>\n",
       "      <td>1558</td>\n",
       "      <td>PHX</td>\n",
       "      <td>CLT</td>\n",
       "      <td>3</td>\n",
       "      <td>15</td>\n",
       "      <td>222</td>\n",
       "      <td>1</td>\n",
       "    </tr>\n",
       "    <tr>\n",
       "      <th>2</th>\n",
       "      <td>AA</td>\n",
       "      <td>2400</td>\n",
       "      <td>LAX</td>\n",
       "      <td>DFW</td>\n",
       "      <td>3</td>\n",
       "      <td>20</td>\n",
       "      <td>165</td>\n",
       "      <td>1</td>\n",
       "    </tr>\n",
       "    <tr>\n",
       "      <th>3</th>\n",
       "      <td>AA</td>\n",
       "      <td>2466</td>\n",
       "      <td>SFO</td>\n",
       "      <td>DFW</td>\n",
       "      <td>3</td>\n",
       "      <td>20</td>\n",
       "      <td>195</td>\n",
       "      <td>1</td>\n",
       "    </tr>\n",
       "  </tbody>\n",
       "</table>\n",
       "</div>"
      ]
     },
     "execution_count": 73,
     "metadata": {},
     "output_type": "execute_result"
    }
   ],
   "execution_count": 73
  },
  {
   "cell_type": "markdown",
   "metadata": {},
   "source": "### 2.2.7 Пример\n\n**Задача:**\n\nТребуется отобрать строки фрейма данных на основе некоторого \nусловия. Необходимо сформировать новый фрейм данных из пассажиров \nпервого класса.",
   "id": "ba5826459095254a"
  },
  {
   "metadata": {
    "ExecuteTime": {
     "end_time": "2025-10-06T07:36:47.390421Z",
     "start_time": "2025-10-06T07:36:47.382067Z"
    }
   },
   "cell_type": "code",
   "source": "dataframe[dataframe['DayOfWeek'] == 3].head(2)",
   "id": "fe5a49081b1795af",
   "outputs": [
    {
     "data": {
      "text/plain": [
       "  Airline  Flight AirportFrom AirportTo  DayOfWeek  Time  Length  Delay\n",
       "0      CO     269         SFO       IAH          3    15     205      1\n",
       "1      US    1558         PHX       CLT          3    15     222      1"
      ],
      "text/html": [
       "<div>\n",
       "<style scoped>\n",
       "    .dataframe tbody tr th:only-of-type {\n",
       "        vertical-align: middle;\n",
       "    }\n",
       "\n",
       "    .dataframe tbody tr th {\n",
       "        vertical-align: top;\n",
       "    }\n",
       "\n",
       "    .dataframe thead th {\n",
       "        text-align: right;\n",
       "    }\n",
       "</style>\n",
       "<table border=\"1\" class=\"dataframe\">\n",
       "  <thead>\n",
       "    <tr style=\"text-align: right;\">\n",
       "      <th></th>\n",
       "      <th>Airline</th>\n",
       "      <th>Flight</th>\n",
       "      <th>AirportFrom</th>\n",
       "      <th>AirportTo</th>\n",
       "      <th>DayOfWeek</th>\n",
       "      <th>Time</th>\n",
       "      <th>Length</th>\n",
       "      <th>Delay</th>\n",
       "    </tr>\n",
       "  </thead>\n",
       "  <tbody>\n",
       "    <tr>\n",
       "      <th>0</th>\n",
       "      <td>CO</td>\n",
       "      <td>269</td>\n",
       "      <td>SFO</td>\n",
       "      <td>IAH</td>\n",
       "      <td>3</td>\n",
       "      <td>15</td>\n",
       "      <td>205</td>\n",
       "      <td>1</td>\n",
       "    </tr>\n",
       "    <tr>\n",
       "      <th>1</th>\n",
       "      <td>US</td>\n",
       "      <td>1558</td>\n",
       "      <td>PHX</td>\n",
       "      <td>CLT</td>\n",
       "      <td>3</td>\n",
       "      <td>15</td>\n",
       "      <td>222</td>\n",
       "      <td>1</td>\n",
       "    </tr>\n",
       "  </tbody>\n",
       "</table>\n",
       "</div>"
      ]
     },
     "execution_count": 74,
     "metadata": {},
     "output_type": "execute_result"
    }
   ],
   "execution_count": 74
  },
  {
   "cell_type": "markdown",
   "metadata": {},
   "source": [
    "### 2.3.1\n",
    "\n",
    "**Задача:**\n",
    "\n",
    "Найдите евклидово расстояние между двумя Series (точками) a и b, не\n",
    "используя встроенную формулу."
   ],
   "id": "77394412bbc2a2ab"
  },
  {
   "metadata": {
    "ExecuteTime": {
     "end_time": "2025-10-06T07:36:47.498699Z",
     "start_time": "2025-10-06T07:36:47.496005Z"
    }
   },
   "cell_type": "code",
   "source": [
    "a = pd.Series([2, 3, 5])\n",
    "b = pd.Series([1, 1, 1])\n",
    "sum_sq = ((a - b) ** 2).sum()\n",
    "np.sqrt(sum_sq)"
   ],
   "id": "62fb760ae060627a",
   "outputs": [
    {
     "data": {
      "text/plain": [
       "np.float64(4.58257569495584)"
      ]
     },
     "execution_count": 75,
     "metadata": {},
     "output_type": "execute_result"
    }
   ],
   "execution_count": 75
  },
  {
   "cell_type": "markdown",
   "metadata": {},
   "source": [
    "### 2.3.2\n",
    "\n",
    "**Задача:**\n",
    "\n",
    "Найдите в Интернете ссылку на любой csv файл и сформируйте из него \n",
    "фрейм данных (например, коллекцию фреймов данных можно найти\n",
    "здесь: https://github.com/akmand/datasets)."
   ],
   "id": "7a811c90a271d79a"
  },
  {
   "cell_type": "code",
   "metadata": {
    "ExecuteTime": {
     "end_time": "2025-10-06T07:36:47.625387Z",
     "start_time": "2025-10-06T07:36:47.522109Z"
    }
   },
   "source": [
    "airlines_dataframe = pd.read_csv('./datasets/airlines.csv')\n",
    "airlines_dataframe.head()"
   ],
   "id": "8441fdaa842d72b0",
   "outputs": [
    {
     "data": {
      "text/plain": [
       "  Airline  Flight AirportFrom AirportTo  DayOfWeek  Time  Length  Delay\n",
       "0      CO     269         SFO       IAH          3    15     205      1\n",
       "1      US    1558         PHX       CLT          3    15     222      1\n",
       "2      AA    2400         LAX       DFW          3    20     165      1\n",
       "3      AA    2466         SFO       DFW          3    20     195      1\n",
       "4      AS     108         ANC       SEA          3    30     202      0"
      ],
      "text/html": [
       "<div>\n",
       "<style scoped>\n",
       "    .dataframe tbody tr th:only-of-type {\n",
       "        vertical-align: middle;\n",
       "    }\n",
       "\n",
       "    .dataframe tbody tr th {\n",
       "        vertical-align: top;\n",
       "    }\n",
       "\n",
       "    .dataframe thead th {\n",
       "        text-align: right;\n",
       "    }\n",
       "</style>\n",
       "<table border=\"1\" class=\"dataframe\">\n",
       "  <thead>\n",
       "    <tr style=\"text-align: right;\">\n",
       "      <th></th>\n",
       "      <th>Airline</th>\n",
       "      <th>Flight</th>\n",
       "      <th>AirportFrom</th>\n",
       "      <th>AirportTo</th>\n",
       "      <th>DayOfWeek</th>\n",
       "      <th>Time</th>\n",
       "      <th>Length</th>\n",
       "      <th>Delay</th>\n",
       "    </tr>\n",
       "  </thead>\n",
       "  <tbody>\n",
       "    <tr>\n",
       "      <th>0</th>\n",
       "      <td>CO</td>\n",
       "      <td>269</td>\n",
       "      <td>SFO</td>\n",
       "      <td>IAH</td>\n",
       "      <td>3</td>\n",
       "      <td>15</td>\n",
       "      <td>205</td>\n",
       "      <td>1</td>\n",
       "    </tr>\n",
       "    <tr>\n",
       "      <th>1</th>\n",
       "      <td>US</td>\n",
       "      <td>1558</td>\n",
       "      <td>PHX</td>\n",
       "      <td>CLT</td>\n",
       "      <td>3</td>\n",
       "      <td>15</td>\n",
       "      <td>222</td>\n",
       "      <td>1</td>\n",
       "    </tr>\n",
       "    <tr>\n",
       "      <th>2</th>\n",
       "      <td>AA</td>\n",
       "      <td>2400</td>\n",
       "      <td>LAX</td>\n",
       "      <td>DFW</td>\n",
       "      <td>3</td>\n",
       "      <td>20</td>\n",
       "      <td>165</td>\n",
       "      <td>1</td>\n",
       "    </tr>\n",
       "    <tr>\n",
       "      <th>3</th>\n",
       "      <td>AA</td>\n",
       "      <td>2466</td>\n",
       "      <td>SFO</td>\n",
       "      <td>DFW</td>\n",
       "      <td>3</td>\n",
       "      <td>20</td>\n",
       "      <td>195</td>\n",
       "      <td>1</td>\n",
       "    </tr>\n",
       "    <tr>\n",
       "      <th>4</th>\n",
       "      <td>AS</td>\n",
       "      <td>108</td>\n",
       "      <td>ANC</td>\n",
       "      <td>SEA</td>\n",
       "      <td>3</td>\n",
       "      <td>30</td>\n",
       "      <td>202</td>\n",
       "      <td>0</td>\n",
       "    </tr>\n",
       "  </tbody>\n",
       "</table>\n",
       "</div>"
      ]
     },
     "execution_count": 76,
     "metadata": {},
     "output_type": "execute_result"
    }
   ],
   "execution_count": 76
  },
  {
   "cell_type": "markdown",
   "metadata": {},
   "source": [
    "### 2.3.3\n",
    "\n",
    "**Задача:**\n",
    "\n",
    "Проделайте с получившемся из предыдущего задания фреймом данных \n",
    "те же действия, что и в примерах 2.2.5 -2.2.7."
   ],
   "id": "b07d80c6917a84c9"
  },
  {
   "cell_type": "code",
   "metadata": {
    "ExecuteTime": {
     "end_time": "2025-10-06T07:36:47.685411Z",
     "start_time": "2025-10-06T07:36:47.649830Z"
    }
   },
   "source": [
    "display(airlines_dataframe.head(2))\n",
    "display(airlines_dataframe.tail(2))\n",
    "print('Shape:', airlines_dataframe.shape)\n",
    "display(airlines_dataframe.describe())"
   ],
   "id": "b7f487f1a808c9e7",
   "outputs": [
    {
     "data": {
      "text/plain": [
       "  Airline  Flight AirportFrom AirportTo  DayOfWeek  Time  Length  Delay\n",
       "0      CO     269         SFO       IAH          3    15     205      1\n",
       "1      US    1558         PHX       CLT          3    15     222      1"
      ],
      "text/html": [
       "<div>\n",
       "<style scoped>\n",
       "    .dataframe tbody tr th:only-of-type {\n",
       "        vertical-align: middle;\n",
       "    }\n",
       "\n",
       "    .dataframe tbody tr th {\n",
       "        vertical-align: top;\n",
       "    }\n",
       "\n",
       "    .dataframe thead th {\n",
       "        text-align: right;\n",
       "    }\n",
       "</style>\n",
       "<table border=\"1\" class=\"dataframe\">\n",
       "  <thead>\n",
       "    <tr style=\"text-align: right;\">\n",
       "      <th></th>\n",
       "      <th>Airline</th>\n",
       "      <th>Flight</th>\n",
       "      <th>AirportFrom</th>\n",
       "      <th>AirportTo</th>\n",
       "      <th>DayOfWeek</th>\n",
       "      <th>Time</th>\n",
       "      <th>Length</th>\n",
       "      <th>Delay</th>\n",
       "    </tr>\n",
       "  </thead>\n",
       "  <tbody>\n",
       "    <tr>\n",
       "      <th>0</th>\n",
       "      <td>CO</td>\n",
       "      <td>269</td>\n",
       "      <td>SFO</td>\n",
       "      <td>IAH</td>\n",
       "      <td>3</td>\n",
       "      <td>15</td>\n",
       "      <td>205</td>\n",
       "      <td>1</td>\n",
       "    </tr>\n",
       "    <tr>\n",
       "      <th>1</th>\n",
       "      <td>US</td>\n",
       "      <td>1558</td>\n",
       "      <td>PHX</td>\n",
       "      <td>CLT</td>\n",
       "      <td>3</td>\n",
       "      <td>15</td>\n",
       "      <td>222</td>\n",
       "      <td>1</td>\n",
       "    </tr>\n",
       "  </tbody>\n",
       "</table>\n",
       "</div>"
      ]
     },
     "metadata": {},
     "output_type": "display_data",
     "jetTransient": {
      "display_id": null
     }
    },
    {
     "data": {
      "text/plain": [
       "       Airline  Flight AirportFrom AirportTo  DayOfWeek  Time  Length  Delay\n",
       "539381      UA      78         HNL       SFO          5  1439     313      1\n",
       "539382      US    1442         LAX       PHL          5  1439     301      1"
      ],
      "text/html": [
       "<div>\n",
       "<style scoped>\n",
       "    .dataframe tbody tr th:only-of-type {\n",
       "        vertical-align: middle;\n",
       "    }\n",
       "\n",
       "    .dataframe tbody tr th {\n",
       "        vertical-align: top;\n",
       "    }\n",
       "\n",
       "    .dataframe thead th {\n",
       "        text-align: right;\n",
       "    }\n",
       "</style>\n",
       "<table border=\"1\" class=\"dataframe\">\n",
       "  <thead>\n",
       "    <tr style=\"text-align: right;\">\n",
       "      <th></th>\n",
       "      <th>Airline</th>\n",
       "      <th>Flight</th>\n",
       "      <th>AirportFrom</th>\n",
       "      <th>AirportTo</th>\n",
       "      <th>DayOfWeek</th>\n",
       "      <th>Time</th>\n",
       "      <th>Length</th>\n",
       "      <th>Delay</th>\n",
       "    </tr>\n",
       "  </thead>\n",
       "  <tbody>\n",
       "    <tr>\n",
       "      <th>539381</th>\n",
       "      <td>UA</td>\n",
       "      <td>78</td>\n",
       "      <td>HNL</td>\n",
       "      <td>SFO</td>\n",
       "      <td>5</td>\n",
       "      <td>1439</td>\n",
       "      <td>313</td>\n",
       "      <td>1</td>\n",
       "    </tr>\n",
       "    <tr>\n",
       "      <th>539382</th>\n",
       "      <td>US</td>\n",
       "      <td>1442</td>\n",
       "      <td>LAX</td>\n",
       "      <td>PHL</td>\n",
       "      <td>5</td>\n",
       "      <td>1439</td>\n",
       "      <td>301</td>\n",
       "      <td>1</td>\n",
       "    </tr>\n",
       "  </tbody>\n",
       "</table>\n",
       "</div>"
      ]
     },
     "metadata": {},
     "output_type": "display_data",
     "jetTransient": {
      "display_id": null
     }
    },
    {
     "name": "stdout",
     "output_type": "stream",
     "text": [
      "Shape: (539383, 8)\n"
     ]
    },
    {
     "data": {
      "text/plain": [
       "              Flight      DayOfWeek           Time         Length  \\\n",
       "count  539383.000000  539383.000000  539383.000000  539383.000000   \n",
       "mean     2427.928630       3.929668     802.728963     132.202007   \n",
       "std      2067.429837       1.914664     278.045911      70.117016   \n",
       "min         1.000000       1.000000      10.000000       0.000000   \n",
       "25%       712.000000       2.000000     565.000000      81.000000   \n",
       "50%      1809.000000       4.000000     795.000000     115.000000   \n",
       "75%      3745.000000       5.000000    1035.000000     162.000000   \n",
       "max      7814.000000       7.000000    1439.000000     655.000000   \n",
       "\n",
       "               Delay  \n",
       "count  539383.000000  \n",
       "mean        0.445442  \n",
       "std         0.497015  \n",
       "min         0.000000  \n",
       "25%         0.000000  \n",
       "50%         0.000000  \n",
       "75%         1.000000  \n",
       "max         1.000000  "
      ],
      "text/html": [
       "<div>\n",
       "<style scoped>\n",
       "    .dataframe tbody tr th:only-of-type {\n",
       "        vertical-align: middle;\n",
       "    }\n",
       "\n",
       "    .dataframe tbody tr th {\n",
       "        vertical-align: top;\n",
       "    }\n",
       "\n",
       "    .dataframe thead th {\n",
       "        text-align: right;\n",
       "    }\n",
       "</style>\n",
       "<table border=\"1\" class=\"dataframe\">\n",
       "  <thead>\n",
       "    <tr style=\"text-align: right;\">\n",
       "      <th></th>\n",
       "      <th>Flight</th>\n",
       "      <th>DayOfWeek</th>\n",
       "      <th>Time</th>\n",
       "      <th>Length</th>\n",
       "      <th>Delay</th>\n",
       "    </tr>\n",
       "  </thead>\n",
       "  <tbody>\n",
       "    <tr>\n",
       "      <th>count</th>\n",
       "      <td>539383.000000</td>\n",
       "      <td>539383.000000</td>\n",
       "      <td>539383.000000</td>\n",
       "      <td>539383.000000</td>\n",
       "      <td>539383.000000</td>\n",
       "    </tr>\n",
       "    <tr>\n",
       "      <th>mean</th>\n",
       "      <td>2427.928630</td>\n",
       "      <td>3.929668</td>\n",
       "      <td>802.728963</td>\n",
       "      <td>132.202007</td>\n",
       "      <td>0.445442</td>\n",
       "    </tr>\n",
       "    <tr>\n",
       "      <th>std</th>\n",
       "      <td>2067.429837</td>\n",
       "      <td>1.914664</td>\n",
       "      <td>278.045911</td>\n",
       "      <td>70.117016</td>\n",
       "      <td>0.497015</td>\n",
       "    </tr>\n",
       "    <tr>\n",
       "      <th>min</th>\n",
       "      <td>1.000000</td>\n",
       "      <td>1.000000</td>\n",
       "      <td>10.000000</td>\n",
       "      <td>0.000000</td>\n",
       "      <td>0.000000</td>\n",
       "    </tr>\n",
       "    <tr>\n",
       "      <th>25%</th>\n",
       "      <td>712.000000</td>\n",
       "      <td>2.000000</td>\n",
       "      <td>565.000000</td>\n",
       "      <td>81.000000</td>\n",
       "      <td>0.000000</td>\n",
       "    </tr>\n",
       "    <tr>\n",
       "      <th>50%</th>\n",
       "      <td>1809.000000</td>\n",
       "      <td>4.000000</td>\n",
       "      <td>795.000000</td>\n",
       "      <td>115.000000</td>\n",
       "      <td>0.000000</td>\n",
       "    </tr>\n",
       "    <tr>\n",
       "      <th>75%</th>\n",
       "      <td>3745.000000</td>\n",
       "      <td>5.000000</td>\n",
       "      <td>1035.000000</td>\n",
       "      <td>162.000000</td>\n",
       "      <td>1.000000</td>\n",
       "    </tr>\n",
       "    <tr>\n",
       "      <th>max</th>\n",
       "      <td>7814.000000</td>\n",
       "      <td>7.000000</td>\n",
       "      <td>1439.000000</td>\n",
       "      <td>655.000000</td>\n",
       "      <td>1.000000</td>\n",
       "    </tr>\n",
       "  </tbody>\n",
       "</table>\n",
       "</div>"
      ]
     },
     "metadata": {},
     "output_type": "display_data",
     "jetTransient": {
      "display_id": null
     }
    }
   ],
   "execution_count": 77
  },
  {
   "cell_type": "markdown",
   "metadata": {},
   "source": [
    "### 3.2.1 Пример\n",
    "\n",
    "**Задача:**\n",
    "\n",
    "Прошкалируйте числовой признак в диапазон между двумя значениями."
   ],
   "id": "cedcf5f6a727c7d1"
  },
  {
   "cell_type": "code",
   "metadata": {
    "ExecuteTime": {
     "end_time": "2025-10-06T07:36:47.770616Z",
     "start_time": "2025-10-06T07:36:47.767353Z"
    }
   },
   "source": [
    "from sklearn import preprocessing\n",
    "feature = np.array([[-500.5], [-100.1], [0], [100.1], [900.9]])\n",
    "minmax_scale = preprocessing.MinMaxScaler(feature_range=(0, 1))\n",
    "scaled_feature = minmax_scale.fit_transform(feature)\n",
    "scaled_feature"
   ],
   "id": "621c6b39344abb13",
   "outputs": [
    {
     "data": {
      "text/plain": [
       "array([[0.        ],\n",
       "       [0.28571429],\n",
       "       [0.35714286],\n",
       "       [0.42857143],\n",
       "       [1.        ]])"
      ]
     },
     "execution_count": 78,
     "metadata": {},
     "output_type": "execute_result"
    }
   ],
   "execution_count": 78
  },
  {
   "cell_type": "markdown",
   "metadata": {},
   "source": [
    "### 3.2.2 Пример\n",
    "\n",
    "**Задача:**\n",
    "\n",
    "Преобразуйте признак, чтобы он имел среднее значение 0 и стандартное\n",
    "отклонение 1."
   ],
   "id": "4c4a23a112cfb2ad"
  },
  {
   "cell_type": "code",
   "metadata": {
    "ExecuteTime": {
     "end_time": "2025-10-06T07:36:47.852674Z",
     "start_time": "2025-10-06T07:36:47.849648Z"
    }
   },
   "source": [
    "x = np.array([[-1000.1], [-200.2], [500.5], [600.6], [9000.9]])\n",
    "scaler = preprocessing.StandardScaler()\n",
    "standardized = scaler.fit_transform(x)\n",
    "\n",
    "print('Среднее:', round(standardized.mean()))\n",
    "print('Стандартное отклонение:', standardized.std())\n",
    "standardized"
   ],
   "id": "530df19818317509",
   "outputs": [
    {
     "name": "stdout",
     "output_type": "stream",
     "text": [
      "Среднее: 0\n",
      "Стандартное отклонение: 1.0\n"
     ]
    },
    {
     "data": {
      "text/plain": [
       "array([[-0.76058269],\n",
       "       [-0.54177196],\n",
       "       [-0.35009716],\n",
       "       [-0.32271504],\n",
       "       [ 1.97516685]])"
      ]
     },
     "execution_count": 79,
     "metadata": {},
     "output_type": "execute_result"
    }
   ],
   "execution_count": 79
  },
  {
   "cell_type": "markdown",
   "metadata": {},
   "source": [
    "### 3.2.3\n",
    "\n",
    "**Задача:**\n",
    "\n",
    "Дан фрейм данных\n",
    "```python\n",
    "dfTest = pd.DataFrame({'A':[14.00,90.20,90.95,96.27,91.21], \n",
    " 'B':[103.02,107.26,110.35,114.23,114.68], \n",
    " 'C':['big','small','big','small','small']})\n",
    "````\n",
    "\n",
    "\n",
    "Необходимо масштабировать его числовые столбцы."
   ],
   "id": "9dc4f1a0f81fb1e2"
  },
  {
   "cell_type": "code",
   "metadata": {
    "ExecuteTime": {
     "end_time": "2025-10-06T07:36:47.946741Z",
     "start_time": "2025-10-06T07:36:47.941272Z"
    }
   },
   "source": [
    "scaler = preprocessing.MinMaxScaler()\n",
    "dfTest = pd.DataFrame({\n",
    "    'A': [14.00, 90.20, 90.95, 96.27, 91.21],\n",
    "    'B': [103.02, 107.26, 110.35, 114.23, 114.68],\n",
    "    'C': ['big', 'small', 'big', 'small', 'small'],\n",
    "})\n",
    "dfTest[['A', 'B']] = scaler.fit_transform(dfTest[['A', 'B']])\n",
    "dfTest"
   ],
   "id": "17d940ca0a53fc96",
   "outputs": [
    {
     "data": {
      "text/plain": [
       "          A         B      C\n",
       "0  0.000000  0.000000    big\n",
       "1  0.926219  0.363636  small\n",
       "2  0.935335  0.628645    big\n",
       "3  1.000000  0.961407  small\n",
       "4  0.938495  1.000000  small"
      ],
      "text/html": [
       "<div>\n",
       "<style scoped>\n",
       "    .dataframe tbody tr th:only-of-type {\n",
       "        vertical-align: middle;\n",
       "    }\n",
       "\n",
       "    .dataframe tbody tr th {\n",
       "        vertical-align: top;\n",
       "    }\n",
       "\n",
       "    .dataframe thead th {\n",
       "        text-align: right;\n",
       "    }\n",
       "</style>\n",
       "<table border=\"1\" class=\"dataframe\">\n",
       "  <thead>\n",
       "    <tr style=\"text-align: right;\">\n",
       "      <th></th>\n",
       "      <th>A</th>\n",
       "      <th>B</th>\n",
       "      <th>C</th>\n",
       "    </tr>\n",
       "  </thead>\n",
       "  <tbody>\n",
       "    <tr>\n",
       "      <th>0</th>\n",
       "      <td>0.000000</td>\n",
       "      <td>0.000000</td>\n",
       "      <td>big</td>\n",
       "    </tr>\n",
       "    <tr>\n",
       "      <th>1</th>\n",
       "      <td>0.926219</td>\n",
       "      <td>0.363636</td>\n",
       "      <td>small</td>\n",
       "    </tr>\n",
       "    <tr>\n",
       "      <th>2</th>\n",
       "      <td>0.935335</td>\n",
       "      <td>0.628645</td>\n",
       "      <td>big</td>\n",
       "    </tr>\n",
       "    <tr>\n",
       "      <th>3</th>\n",
       "      <td>1.000000</td>\n",
       "      <td>0.961407</td>\n",
       "      <td>small</td>\n",
       "    </tr>\n",
       "    <tr>\n",
       "      <th>4</th>\n",
       "      <td>0.938495</td>\n",
       "      <td>1.000000</td>\n",
       "      <td>small</td>\n",
       "    </tr>\n",
       "  </tbody>\n",
       "</table>\n",
       "</div>"
      ]
     },
     "execution_count": 80,
     "metadata": {},
     "output_type": "execute_result"
    }
   ],
   "execution_count": 80
  },
  {
   "cell_type": "markdown",
   "metadata": {},
   "source": "### 3.3.2\n\n**Задача:**\n\nЗагрузить фрейм данных по ссылке : \nhttps://raw.githubusercontent.com/akmand/datasets/master/iris.csv. \nНеобходимо выполнить нормализацию первого числового признака \n(sepal_length_cm) с использованием минимаксного преобразования, а \nвторого (sepal_width_cm) с задействованием z -масштабирования.",
   "id": "9824458f39e2778a"
  },
  {
   "cell_type": "code",
   "metadata": {
    "ExecuteTime": {
     "end_time": "2025-10-06T07:36:47.986221Z",
     "start_time": "2025-10-06T07:36:47.979284Z"
    }
   },
   "source": [
    "minmax_scaler = preprocessing.MinMaxScaler()\n",
    "standard_scaler = preprocessing.StandardScaler()\n",
    "\n",
    "dataframe = pd.read_csv('./datasets/iris.csv')\n",
    "\n",
    "dataframe[['sepal_length_cm']] = minmax_scaler.fit_transform(dataframe[['sepal_length_cm']])\n",
    "dataframe[['sepal_width_cm']] = standard_scaler.fit_transform(dataframe[['sepal_width_cm']])\n",
    "dataframe.head(5)\n"
   ],
   "id": "78ef3c68d1abf9a2",
   "outputs": [
    {
     "data": {
      "text/plain": [
       "   sepal_length_cm  sepal_width_cm  petal_length_cm  petal_width_cm species\n",
       "0         0.222222        1.032057              1.4             0.2  setosa\n",
       "1         0.166667       -0.124958              1.4             0.2  setosa\n",
       "2         0.111111        0.337848              1.3             0.2  setosa\n",
       "3         0.083333        0.106445              1.5             0.2  setosa\n",
       "4         0.194444        1.263460              1.4             0.2  setosa"
      ],
      "text/html": [
       "<div>\n",
       "<style scoped>\n",
       "    .dataframe tbody tr th:only-of-type {\n",
       "        vertical-align: middle;\n",
       "    }\n",
       "\n",
       "    .dataframe tbody tr th {\n",
       "        vertical-align: top;\n",
       "    }\n",
       "\n",
       "    .dataframe thead th {\n",
       "        text-align: right;\n",
       "    }\n",
       "</style>\n",
       "<table border=\"1\" class=\"dataframe\">\n",
       "  <thead>\n",
       "    <tr style=\"text-align: right;\">\n",
       "      <th></th>\n",
       "      <th>sepal_length_cm</th>\n",
       "      <th>sepal_width_cm</th>\n",
       "      <th>petal_length_cm</th>\n",
       "      <th>petal_width_cm</th>\n",
       "      <th>species</th>\n",
       "    </tr>\n",
       "  </thead>\n",
       "  <tbody>\n",
       "    <tr>\n",
       "      <th>0</th>\n",
       "      <td>0.222222</td>\n",
       "      <td>1.032057</td>\n",
       "      <td>1.4</td>\n",
       "      <td>0.2</td>\n",
       "      <td>setosa</td>\n",
       "    </tr>\n",
       "    <tr>\n",
       "      <th>1</th>\n",
       "      <td>0.166667</td>\n",
       "      <td>-0.124958</td>\n",
       "      <td>1.4</td>\n",
       "      <td>0.2</td>\n",
       "      <td>setosa</td>\n",
       "    </tr>\n",
       "    <tr>\n",
       "      <th>2</th>\n",
       "      <td>0.111111</td>\n",
       "      <td>0.337848</td>\n",
       "      <td>1.3</td>\n",
       "      <td>0.2</td>\n",
       "      <td>setosa</td>\n",
       "    </tr>\n",
       "    <tr>\n",
       "      <th>3</th>\n",
       "      <td>0.083333</td>\n",
       "      <td>0.106445</td>\n",
       "      <td>1.5</td>\n",
       "      <td>0.2</td>\n",
       "      <td>setosa</td>\n",
       "    </tr>\n",
       "    <tr>\n",
       "      <th>4</th>\n",
       "      <td>0.194444</td>\n",
       "      <td>1.263460</td>\n",
       "      <td>1.4</td>\n",
       "      <td>0.2</td>\n",
       "      <td>setosa</td>\n",
       "    </tr>\n",
       "  </tbody>\n",
       "</table>\n",
       "</div>"
      ]
     },
     "execution_count": 81,
     "metadata": {},
     "output_type": "execute_result"
    }
   ],
   "execution_count": 81
  }
 ],
 "metadata": {
  "kernelspec": {
   "display_name": "Python 3",
   "language": "python",
   "name": "python3"
  },
  "language_info": {
   "codemirror_mode": {
    "name": "ipython",
    "version": 2
   },
   "file_extension": ".py",
   "mimetype": "text/x-python",
   "name": "python",
   "nbconvert_exporter": "python",
   "pygments_lexer": "ipython2",
   "version": "2.7.6"
  }
 },
 "nbformat": 4,
 "nbformat_minor": 5
}
